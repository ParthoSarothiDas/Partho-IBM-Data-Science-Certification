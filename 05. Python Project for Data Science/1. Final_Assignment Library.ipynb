{
 "cells": [
  {
   "cell_type": "markdown",
   "metadata": {},
   "source": [
    "<center>\n",
    "    <img src=\"https://cf-courses-data.s3.us.cloud-object-storage.appdomain.cloud/IBMDeveloperSkillsNetwork-PY0220EN-SkillsNetwork/labs/project/Images/SN_logo.png\" width=\"300\" alt=\"cognitiveclass.ai logo\">\n",
    "</center>\n"
   ]
  },
  {
   "cell_type": "markdown",
   "metadata": {},
   "source": [
    "<h1>Extracting Stock Data Using a Python Library</h1>\n"
   ]
  },
  {
   "cell_type": "markdown",
   "metadata": {},
   "source": [
    "A company's stock share is a piece of the company more precisely:\n",
    "<p><b>A stock (also known as equity) is a security that represents the ownership of a fraction of a corporation. This\n",
    "entitles the owner of the stock to a proportion of the corporation's assets and profits equal to how much stock they own. Units of stock are called \"shares.\" [1]</p></b>\n",
    "\n",
    "An investor can buy a stock and sell it later. If the stock price increases, the investor profits, If it decreases,the investor with incur a loss.  Determining the stock price is complex; it depends on the number of outstanding shares, the size of the company's future profits, and much more. People trade stocks throughout the day the stock ticker is a report of the price of a certain stock, updated continuously throughout the trading session by the various stock market exchanges. \n",
    "<p>You are a data scientist working for a hedge fund; it's your job to determine any suspicious stock activity. In this lab you will extract stock data using a Python library. We will use the <coode>yfinance</code> library, it allows us to extract data for stocks returning data in a pandas dataframe. You will use the lab to extract.</p>\n"
   ]
  },
  {
   "cell_type": "markdown",
   "metadata": {},
   "source": [
    "<h2>Table of Contents</h2>\n",
    "<div class=\"alert alert-block alert-info\" style=\"margin-top: 20px\">\n",
    "    <ul>\n",
    "        <li>Using yfinance to Extract Stock Info</li>\n",
    "        <li>Using yfinance to Extract Historical Share Price Data</li>\n",
    "        <li>Using yfinance to Extract Historical Dividends Data</li>\n",
    "        <li>Exercise</li>\n",
    "    </ul>\n",
    "<p>\n",
    "    Estimated Time Needed: <strong>30 min</strong></p>\n",
    "</div>\n",
    "\n",
    "<hr>\n"
   ]
  },
  {
   "cell_type": "code",
   "execution_count": 25,
   "metadata": {},
   "outputs": [],
   "source": [
    "# !pip install yfinance\n",
    "# !pip install matplotlib\n",
    "# !pip install pandas==1.3.3"
   ]
  },
  {
   "cell_type": "code",
   "execution_count": 27,
   "metadata": {},
   "outputs": [],
   "source": [
    "import yfinance as yf\n",
    "import pandas as pd"
   ]
  },
  {
   "cell_type": "markdown",
   "metadata": {},
   "source": [
    "## Using the yfinance Library to Extract Stock Data\n"
   ]
  },
  {
   "cell_type": "markdown",
   "metadata": {},
   "source": [
    "Using the `Ticker` module we can create an object that will allow us to access functions to extract data. To do this we need to provide the ticker symbol for the stock, here the company is Apple and the ticker symbol is `AAPL`.\n"
   ]
  },
  {
   "cell_type": "code",
   "execution_count": 31,
   "metadata": {},
   "outputs": [],
   "source": [
    "apple = yf.Ticker(\"AAPL\")"
   ]
  },
  {
   "cell_type": "markdown",
   "metadata": {},
   "source": [
    "Now we can access functions and variables to extract the type of data we need. You can view them and what they represent here https://aroussi.com/post/python-yahoo-finance.\n"
   ]
  },
  {
   "cell_type": "code",
   "execution_count": 133,
   "metadata": {},
   "outputs": [],
   "source": [
    "# !wget https://cf-courses-data.s3.us.cloud-object-storage.appdomain.cloud/IBMDeveloperSkillsNetwork-PY0220EN-SkillsNetwork/data/apple.json"
   ]
  },
  {
   "cell_type": "markdown",
   "metadata": {},
   "source": [
    "### Stock Info\n"
   ]
  },
  {
   "cell_type": "markdown",
   "metadata": {},
   "source": [
    "Using the attribute  <code>info</code> we can extract information about the stock as a Python dictionary.\n"
   ]
  },
  {
   "cell_type": "code",
   "execution_count": 87,
   "metadata": {},
   "outputs": [
    {
     "name": "stdout",
     "output_type": "stream",
     "text": [
      "Download complete.\n"
     ]
    },
    {
     "data": {
      "text/plain": [
       "{'address1': 'One Apple Park Way',\n",
       " 'city': 'Cupertino',\n",
       " 'state': 'CA',\n",
       " 'zip': '95014',\n",
       " 'country': 'United States',\n",
       " 'phone': '(408) 996-1010',\n",
       " 'website': 'https://www.apple.com',\n",
       " 'industry': 'Consumer Electronics',\n",
       " 'industryKey': 'consumer-electronics',\n",
       " 'industryDisp': 'Consumer Electronics',\n",
       " 'sector': 'Technology',\n",
       " 'sectorKey': 'technology',\n",
       " 'sectorDisp': 'Technology',\n",
       " 'longBusinessSummary': 'Apple Inc. designs, manufactures, and markets smartphones, personal computers, tablets, wearables, and accessories worldwide. The company offers iPhone, a line of smartphones; Mac, a line of personal computers; iPad, a line of multi-purpose tablets; and wearables, home, and accessories comprising AirPods, Apple TV, Apple Watch, Beats products, and HomePod. It also provides AppleCare support and cloud services; and operates various platforms, including the App Store that allow customers to discover and download applications and digital content, such as books, music, video, games, and podcasts, as well as advertising services include third-party licensing arrangements and its own advertising platforms. In addition, the company offers various subscription-based services, such as Apple Arcade, a game subscription service; Apple Fitness+, a personalized fitness service; Apple Music, which offers users a curated listening experience with on-demand radio stations; Apple News+, a subscription news and magazine service; Apple TV+, which offers exclusive original content; Apple Card, a co-branded credit card; and Apple Pay, a cashless payment service, as well as licenses its intellectual property. The company serves consumers, and small and mid-sized businesses; and the education, enterprise, and government markets. It distributes third-party applications for its products through the App Store. The company also sells its products through its retail and online stores, and direct sales force; and third-party cellular network carriers, wholesalers, retailers, and resellers. Apple Inc. was founded in 1976 and is headquartered in Cupertino, California.',\n",
       " 'fullTimeEmployees': 164000,\n",
       " 'companyOfficers': [{'maxAge': 1,\n",
       "   'name': 'Mr. Timothy D. Cook',\n",
       "   'age': 63,\n",
       "   'title': 'CEO & Director',\n",
       "   'yearBorn': 1961,\n",
       "   'fiscalYear': 2024,\n",
       "   'totalPay': 16520856,\n",
       "   'exercisedValue': 0,\n",
       "   'unexercisedValue': 0},\n",
       "  {'maxAge': 1,\n",
       "   'name': 'Mr. Kevan  Parekh',\n",
       "   'age': 52,\n",
       "   'title': 'Senior VP & CFO',\n",
       "   'yearBorn': 1972,\n",
       "   'fiscalYear': 2024,\n",
       "   'exercisedValue': 0,\n",
       "   'unexercisedValue': 0},\n",
       "  {'maxAge': 1,\n",
       "   'name': 'Molly  Thompson',\n",
       "   'title': 'Head of Documentaries for Apple TV+',\n",
       "   'fiscalYear': 2024,\n",
       "   'exercisedValue': 0,\n",
       "   'unexercisedValue': 0},\n",
       "  {'maxAge': 1,\n",
       "   'name': 'Mr. Matthew  Cherniss',\n",
       "   'age': 51,\n",
       "   'title': 'Head of Programming for Apple TV+',\n",
       "   'yearBorn': 1973,\n",
       "   'fiscalYear': 2024,\n",
       "   'exercisedValue': 0,\n",
       "   'unexercisedValue': 0},\n",
       "  {'maxAge': 1,\n",
       "   'name': 'Ashish  Chowdhary',\n",
       "   'title': 'Head of Indian Business',\n",
       "   'fiscalYear': 2024,\n",
       "   'exercisedValue': 0,\n",
       "   'unexercisedValue': 0},\n",
       "  {'maxAge': 1,\n",
       "   'name': 'Mr. Roger  Rosner',\n",
       "   'title': 'Vice President of Applications',\n",
       "   'fiscalYear': 2024,\n",
       "   'exercisedValue': 0,\n",
       "   'unexercisedValue': 0},\n",
       "  {'maxAge': 1,\n",
       "   'name': 'Mr. Kevin M. Lynch',\n",
       "   'age': 57,\n",
       "   'title': 'Vice President of Technology',\n",
       "   'yearBorn': 1967,\n",
       "   'fiscalYear': 2024,\n",
       "   'exercisedValue': 0,\n",
       "   'unexercisedValue': 0},\n",
       "  {'maxAge': 1,\n",
       "   'name': 'Mr. Wyatt  Mitchell',\n",
       "   'title': 'Director of App Design',\n",
       "   'fiscalYear': 2024,\n",
       "   'exercisedValue': 0,\n",
       "   'unexercisedValue': 0},\n",
       "  {'maxAge': 1,\n",
       "   'name': 'Ms. Jennifer  Bailey',\n",
       "   'age': 61,\n",
       "   'title': 'Vice President of Pay',\n",
       "   'yearBorn': 1963,\n",
       "   'fiscalYear': 2024,\n",
       "   'exercisedValue': 0,\n",
       "   'unexercisedValue': 0},\n",
       "  {'maxAge': 1,\n",
       "   'name': 'Ms. Ann  Thai',\n",
       "   'title': 'Director of Product Management for the App Store',\n",
       "   'fiscalYear': 2024,\n",
       "   'exercisedValue': 0,\n",
       "   'unexercisedValue': 0}],\n",
       " 'auditRisk': 7,\n",
       " 'boardRisk': 1,\n",
       " 'compensationRisk': 3,\n",
       " 'shareHolderRightsRisk': 1,\n",
       " 'overallRisk': 1,\n",
       " 'governanceEpochDate': 1751328000,\n",
       " 'compensationAsOfEpochDate': 1735603200,\n",
       " 'irWebsite': 'http://investor.apple.com/',\n",
       " 'executiveTeam': [],\n",
       " 'maxAge': 86400,\n",
       " 'priceHint': 2,\n",
       " 'previousClose': 207.57,\n",
       " 'open': 210.89,\n",
       " 'dayLow': 202.65,\n",
       " 'dayHigh': 213.58,\n",
       " 'regularMarketPreviousClose': 207.57,\n",
       " 'regularMarketOpen': 210.89,\n",
       " 'regularMarketDayLow': 202.65,\n",
       " 'regularMarketDayHigh': 213.58,\n",
       " 'dividendRate': 1.04,\n",
       " 'dividendYield': 0.5,\n",
       " 'exDividendDate': 1747008000,\n",
       " 'payoutRatio': 0.1558,\n",
       " 'fiveYearAvgDividendYield': 0.55,\n",
       " 'beta': 1.199,\n",
       " 'trailingPE': 30.865715,\n",
       " 'forwardPE': 24.439999,\n",
       " 'volume': 49833822,\n",
       " 'regularMarketVolume': 49834720,\n",
       " 'averageVolume': 53496022,\n",
       " 'averageVolume10days': 49356340,\n",
       " 'averageDailyVolume10Day': 49356340,\n",
       " 'bid': 202.03,\n",
       " 'ask': 209.97,\n",
       " 'bidSize': 4,\n",
       " 'askSize': 4,\n",
       " 'marketCap': 3033407160320,\n",
       " 'fiftyTwoWeekLow': 169.21,\n",
       " 'fiftyTwoWeekHigh': 260.1,\n",
       " 'priceToSalesTrailing12Months': 7.5759735,\n",
       " 'fiftyDayAverage': 205.3666,\n",
       " 'twoHundredDayAverage': 221.70555,\n",
       " 'trailingAnnualDividendRate': 0.0,\n",
       " 'trailingAnnualDividendYield': 0.0,\n",
       " 'currency': 'USD',\n",
       " 'tradeable': False,\n",
       " 'enterpriseValue': 3149917323264,\n",
       " 'profitMargins': 0.24301,\n",
       " 'floatShares': 14910285738,\n",
       " 'sharesOutstanding': 14935799808,\n",
       " 'sharesShort': 93946599,\n",
       " 'sharesShortPriorMonth': 100226522,\n",
       " 'sharesShortPreviousMonthDate': 1749772800,\n",
       " 'dateShortInterest': 1752537600,\n",
       " 'sharesPercentSharesOut': 0.0063,\n",
       " 'heldPercentInsiders': 0.020920001,\n",
       " 'heldPercentInstitutions': 0.62838,\n",
       " 'shortRatio': 1.74,\n",
       " 'shortPercentOfFloat': 0.0063,\n",
       " 'impliedSharesOutstanding': 15024199680,\n",
       " 'bookValue': 3.767,\n",
       " 'priceToBook': 53.914627,\n",
       " 'lastFiscalYearEnd': 1727481600,\n",
       " 'nextFiscalYearEnd': 1759017600,\n",
       " 'mostRecentQuarter': 1743206400,\n",
       " 'earningsQuarterlyGrowth': 0.048,\n",
       " 'netIncomeToCommon': 97294000128,\n",
       " 'trailingEps': 6.58,\n",
       " 'forwardEps': 8.31,\n",
       " 'lastSplitFactor': '4:1',\n",
       " 'lastSplitDate': 1598832000,\n",
       " 'enterpriseToRevenue': 7.868,\n",
       " 'enterpriseToEbitda': 22.683,\n",
       " '52WeekChange': -0.055899203,\n",
       " 'SandP52WeekChange': 0.18569505,\n",
       " 'lastDividendValue': 0.26,\n",
       " 'lastDividendDate': 1747008000,\n",
       " 'quoteType': 'EQUITY',\n",
       " 'currentPrice': 203.08,\n",
       " 'targetHighPrice': 300.0,\n",
       " 'targetLowPrice': 175.0,\n",
       " 'targetMeanPrice': 232.4992,\n",
       " 'targetMedianPrice': 238.0,\n",
       " 'recommendationMean': 1.93333,\n",
       " 'recommendationKey': 'buy',\n",
       " 'numberOfAnalystOpinions': 38,\n",
       " 'totalCash': 48497999872,\n",
       " 'totalCashPerShare': 3.247,\n",
       " 'ebitda': 138865999872,\n",
       " 'totalDebt': 98186002432,\n",
       " 'quickRatio': 0.68,\n",
       " 'currentRatio': 0.821,\n",
       " 'totalRevenue': 400366010368,\n",
       " 'debtToEquity': 146.994,\n",
       " 'revenuePerShare': 26.455,\n",
       " 'returnOnAssets': 0.23809999,\n",
       " 'returnOnEquity': 1.38015,\n",
       " 'grossProfits': 186699005952,\n",
       " 'freeCashflow': 97251500032,\n",
       " 'operatingCashflow': 109555998720,\n",
       " 'earningsGrowth': 0.078,\n",
       " 'revenueGrowth': 0.051,\n",
       " 'grossMargins': 0.46632,\n",
       " 'ebitdaMargins': 0.34685,\n",
       " 'operatingMargins': 0.31028998,\n",
       " 'financialCurrency': 'USD',\n",
       " 'symbol': 'AAPL',\n",
       " 'language': 'en-US',\n",
       " 'region': 'US',\n",
       " 'typeDisp': 'Equity',\n",
       " 'quoteSourceName': 'Nasdaq Real Time Price',\n",
       " 'triggerable': True,\n",
       " 'customPriceAlertConfidence': 'HIGH',\n",
       " 'longName': 'Apple Inc.',\n",
       " 'shortName': 'Apple Inc.',\n",
       " 'corporateActions': [],\n",
       " 'regularMarketTime': 1754065559,\n",
       " 'exchangeTimezoneShortName': 'EDT',\n",
       " 'gmtOffSetMilliseconds': -14400000,\n",
       " 'market': 'us_market',\n",
       " 'esgPopulated': False,\n",
       " 'regularMarketChangePercent': -2.1552258,\n",
       " 'regularMarketPrice': 203.0964,\n",
       " 'exchange': 'NMS',\n",
       " 'messageBoardId': 'finmb_24937',\n",
       " 'exchangeTimezoneName': 'America/New_York',\n",
       " 'marketState': 'REGULAR',\n",
       " 'hasPrePostMarketData': True,\n",
       " 'firstTradeDateMilliseconds': 345479400000,\n",
       " 'regularMarketChange': -4.4736023,\n",
       " 'regularMarketDayRange': '202.65 - 213.58',\n",
       " 'fullExchangeName': 'NasdaqGS',\n",
       " 'averageDailyVolume3Month': 53496022,\n",
       " 'fiftyTwoWeekLowChange': 33.8864,\n",
       " 'fiftyTwoWeekLowChangePercent': 0.20026238,\n",
       " 'fiftyTwoWeekRange': '169.21 - 260.1',\n",
       " 'fiftyTwoWeekHighChange': -57.0036,\n",
       " 'fiftyTwoWeekHighChangePercent': -0.21916032,\n",
       " 'fiftyTwoWeekChangePercent': -5.58992,\n",
       " 'dividendDate': 1747267200,\n",
       " 'earningsTimestamp': 1753992000,\n",
       " 'earningsTimestampStart': 1761854400,\n",
       " 'earningsTimestampEnd': 1761854400,\n",
       " 'earningsCallTimestampStart': 1753995600,\n",
       " 'earningsCallTimestampEnd': 1753995600,\n",
       " 'isEarningsDateEstimate': True,\n",
       " 'epsTrailingTwelveMonths': 6.58,\n",
       " 'epsForward': 8.31,\n",
       " 'epsCurrentYear': 7.33938,\n",
       " 'priceEpsCurrentYear': 27.672148,\n",
       " 'fiftyDayAverageChange': -2.2701874,\n",
       " 'fiftyDayAverageChangePercent': -0.011054317,\n",
       " 'twoHundredDayAverageChange': -18.609146,\n",
       " 'twoHundredDayAverageChangePercent': -0.08393631,\n",
       " 'sourceInterval': 15,\n",
       " 'exchangeDataDelayedBy': 0,\n",
       " 'averageAnalystRating': '1.9 - Buy',\n",
       " 'cryptoTradeable': False,\n",
       " 'displayName': 'Apple',\n",
       " 'trailingPegRatio': 1.9354}"
      ]
     },
     "execution_count": 87,
     "metadata": {},
     "output_type": "execute_result"
    }
   ],
   "source": [
    "import requests\n",
    "\n",
    "url = \"https://cf-courses-data.s3.us.cloud-object-storage.appdomain.cloud/IBMDeveloperSkillsNetwork-PY0220EN-SkillsNetwork/data/apple.json\"\n",
    "response = requests.get(url)\n",
    "\n",
    "with open(\"apple.json\", \"wb\") as f:\n",
    "    f.write(response.content)\n",
    "\n",
    "print(\"Download complete.\")\n",
    "apple.info"
   ]
  },
  {
   "cell_type": "markdown",
   "metadata": {},
   "source": [
    "We can get the <code>'country'</code> using the key country\n"
   ]
  },
  {
   "cell_type": "code",
   "execution_count": 91,
   "metadata": {},
   "outputs": [
    {
     "data": {
      "text/plain": [
       "'United States'"
      ]
     },
     "execution_count": 91,
     "metadata": {},
     "output_type": "execute_result"
    }
   ],
   "source": [
    "apple.info['country']"
   ]
  },
  {
   "cell_type": "markdown",
   "metadata": {},
   "source": [
    "### Extracting Share Price\n"
   ]
  },
  {
   "cell_type": "markdown",
   "metadata": {},
   "source": [
    "A share is the single smallest part of a company's stock  that you can buy, the prices of these shares fluctuate over time. Using the <code>history()</code> method we can get the share price of the stock over a certain period of time. Using the `period` parameter we can set how far back from the present to get data. The options for `period` are 1 day (1d), 5d, 1 month (1mo) , 3mo, 6mo, 1 year (1y), 2y, 5y, 10y, ytd, and max.\n"
   ]
  },
  {
   "cell_type": "code",
   "execution_count": 93,
   "metadata": {},
   "outputs": [],
   "source": [
    "apple_share_price_data = apple.history(period=\"max\")"
   ]
  },
  {
   "cell_type": "markdown",
   "metadata": {},
   "source": [
    "The format that the data is returned in is a Pandas DataFrame. With the `Date` as the index the share `Open`, `High`, `Low`, `Close`, `Volume`, and `Stock Splits` are given for each day.\n"
   ]
  },
  {
   "cell_type": "code",
   "execution_count": 96,
   "metadata": {},
   "outputs": [
    {
     "data": {
      "text/html": [
       "<div>\n",
       "<style scoped>\n",
       "    .dataframe tbody tr th:only-of-type {\n",
       "        vertical-align: middle;\n",
       "    }\n",
       "\n",
       "    .dataframe tbody tr th {\n",
       "        vertical-align: top;\n",
       "    }\n",
       "\n",
       "    .dataframe thead th {\n",
       "        text-align: right;\n",
       "    }\n",
       "</style>\n",
       "<table border=\"1\" class=\"dataframe\">\n",
       "  <thead>\n",
       "    <tr style=\"text-align: right;\">\n",
       "      <th></th>\n",
       "      <th>Open</th>\n",
       "      <th>High</th>\n",
       "      <th>Low</th>\n",
       "      <th>Close</th>\n",
       "      <th>Volume</th>\n",
       "      <th>Dividends</th>\n",
       "      <th>Stock Splits</th>\n",
       "    </tr>\n",
       "    <tr>\n",
       "      <th>Date</th>\n",
       "      <th></th>\n",
       "      <th></th>\n",
       "      <th></th>\n",
       "      <th></th>\n",
       "      <th></th>\n",
       "      <th></th>\n",
       "      <th></th>\n",
       "    </tr>\n",
       "  </thead>\n",
       "  <tbody>\n",
       "    <tr>\n",
       "      <th>1980-12-12 00:00:00-05:00</th>\n",
       "      <td>0.098597</td>\n",
       "      <td>0.099025</td>\n",
       "      <td>0.098597</td>\n",
       "      <td>0.098597</td>\n",
       "      <td>469033600</td>\n",
       "      <td>0.0</td>\n",
       "      <td>0.0</td>\n",
       "    </tr>\n",
       "    <tr>\n",
       "      <th>1980-12-15 00:00:00-05:00</th>\n",
       "      <td>0.093881</td>\n",
       "      <td>0.093881</td>\n",
       "      <td>0.093453</td>\n",
       "      <td>0.093453</td>\n",
       "      <td>175884800</td>\n",
       "      <td>0.0</td>\n",
       "      <td>0.0</td>\n",
       "    </tr>\n",
       "    <tr>\n",
       "      <th>1980-12-16 00:00:00-05:00</th>\n",
       "      <td>0.087022</td>\n",
       "      <td>0.087022</td>\n",
       "      <td>0.086594</td>\n",
       "      <td>0.086594</td>\n",
       "      <td>105728000</td>\n",
       "      <td>0.0</td>\n",
       "      <td>0.0</td>\n",
       "    </tr>\n",
       "    <tr>\n",
       "      <th>1980-12-17 00:00:00-05:00</th>\n",
       "      <td>0.088737</td>\n",
       "      <td>0.089166</td>\n",
       "      <td>0.088737</td>\n",
       "      <td>0.088737</td>\n",
       "      <td>86441600</td>\n",
       "      <td>0.0</td>\n",
       "      <td>0.0</td>\n",
       "    </tr>\n",
       "    <tr>\n",
       "      <th>1980-12-18 00:00:00-05:00</th>\n",
       "      <td>0.091310</td>\n",
       "      <td>0.091738</td>\n",
       "      <td>0.091310</td>\n",
       "      <td>0.091310</td>\n",
       "      <td>73449600</td>\n",
       "      <td>0.0</td>\n",
       "      <td>0.0</td>\n",
       "    </tr>\n",
       "  </tbody>\n",
       "</table>\n",
       "</div>"
      ],
      "text/plain": [
       "                               Open      High       Low     Close     Volume  \\\n",
       "Date                                                                           \n",
       "1980-12-12 00:00:00-05:00  0.098597  0.099025  0.098597  0.098597  469033600   \n",
       "1980-12-15 00:00:00-05:00  0.093881  0.093881  0.093453  0.093453  175884800   \n",
       "1980-12-16 00:00:00-05:00  0.087022  0.087022  0.086594  0.086594  105728000   \n",
       "1980-12-17 00:00:00-05:00  0.088737  0.089166  0.088737  0.088737   86441600   \n",
       "1980-12-18 00:00:00-05:00  0.091310  0.091738  0.091310  0.091310   73449600   \n",
       "\n",
       "                           Dividends  Stock Splits  \n",
       "Date                                                \n",
       "1980-12-12 00:00:00-05:00        0.0           0.0  \n",
       "1980-12-15 00:00:00-05:00        0.0           0.0  \n",
       "1980-12-16 00:00:00-05:00        0.0           0.0  \n",
       "1980-12-17 00:00:00-05:00        0.0           0.0  \n",
       "1980-12-18 00:00:00-05:00        0.0           0.0  "
      ]
     },
     "execution_count": 96,
     "metadata": {},
     "output_type": "execute_result"
    }
   ],
   "source": [
    "apple_share_price_data.head()"
   ]
  },
  {
   "cell_type": "markdown",
   "metadata": {},
   "source": [
    "We can reset the index of the DataFrame with the `reset_index` function. We also set the `inplace` paramter to `True` so the change takes place to the DataFrame itself.\n"
   ]
  },
  {
   "cell_type": "code",
   "execution_count": 99,
   "metadata": {},
   "outputs": [],
   "source": [
    "apple_share_price_data.reset_index(inplace=True)\n"
   ]
  },
  {
   "cell_type": "markdown",
   "metadata": {},
   "source": [
    "We can plot the `Open` price against the `Date`:\n"
   ]
  },
  {
   "cell_type": "code",
   "execution_count": 102,
   "metadata": {},
   "outputs": [
    {
     "data": {
      "text/plain": [
       "<Axes: xlabel='Date'>"
      ]
     },
     "execution_count": 102,
     "metadata": {},
     "output_type": "execute_result"
    },
    {
     "data": {
      "image/png": "[encoded data removed]",
      "text/plain": [
       "<Figure size 640x480 with 1 Axes>"
      ]
     },
     "metadata": {},
     "output_type": "display_data"
    }
   ],
   "source": [
    "apple_share_price_data.plot(x=\"Date\", y=\"Open\")"
   ]
  },
  {
   "cell_type": "markdown",
   "metadata": {},
   "source": [
    "### Extracting Dividends\n"
   ]
  },
  {
   "cell_type": "markdown",
   "metadata": {},
   "source": [
    "Dividends are the distribution of a companys profits to shareholders. In this case they are defined as an amount of money returned per share an investor owns. Using the variable `dividends` we can get a dataframe of the data. The period of the data is given by the period defined in the 'history` function.\n"
   ]
  },
  {
   "cell_type": "code",
   "execution_count": 106,
   "metadata": {},
   "outputs": [
    {
     "data": {
      "text/plain": [
       "Date\n",
       "1987-05-11 00:00:00-04:00    0.000536\n",
       "1987-08-10 00:00:00-04:00    0.000536\n",
       "1987-11-17 00:00:00-05:00    0.000714\n",
       "1988-02-12 00:00:00-05:00    0.000714\n",
       "1988-05-16 00:00:00-04:00    0.000714\n",
       "                               ...   \n",
       "2024-05-10 00:00:00-04:00    0.250000\n",
       "2024-08-12 00:00:00-04:00    0.250000\n",
       "2024-11-08 00:00:00-05:00    0.250000\n",
       "2025-02-10 00:00:00-05:00    0.250000\n",
       "2025-05-12 00:00:00-04:00    0.260000\n",
       "Name: Dividends, Length: 87, dtype: float64"
      ]
     },
     "execution_count": 106,
     "metadata": {},
     "output_type": "execute_result"
    }
   ],
   "source": [
    "apple.dividends"
   ]
  },
  {
   "cell_type": "markdown",
   "metadata": {},
   "source": [
    "We can plot the dividends overtime:\n"
   ]
  },
  {
   "cell_type": "code",
   "execution_count": 109,
   "metadata": {},
   "outputs": [
    {
     "data": {
      "text/plain": [
       "<Axes: xlabel='Date'>"
      ]
     },
     "execution_count": 109,
     "metadata": {},
     "output_type": "execute_result"
    },
    {
     "data": {
      "image/png": "[encoded data removed]",
      "text/plain": [
       "<Figure size 640x480 with 1 Axes>"
      ]
     },
     "metadata": {},
     "output_type": "display_data"
    }
   ],
   "source": [
    "apple.dividends.plot()"
   ]
  },
  {
   "cell_type": "markdown",
   "metadata": {},
   "source": [
    "## Exercise \n"
   ]
  },
  {
   "cell_type": "markdown",
   "metadata": {},
   "source": [
    "Now using the `Ticker` module create an object for AMD (Advanced Micro Devices) with the ticker symbol is `AMD` called; name the object <code>amd</code>.\n"
   ]
  },
  {
   "cell_type": "code",
   "execution_count": 113,
   "metadata": {},
   "outputs": [],
   "source": [
    "amd = yf.Ticker(\"AMD\")"
   ]
  },
  {
   "cell_type": "code",
   "execution_count": 119,
   "metadata": {},
   "outputs": [],
   "source": [
    "# !wget https://cf-courses-data.s3.us.cloud-object-storage.appdomain.cloud/IBMDeveloperSkillsNetwork-PY0220EN-SkillsNetwork/data/amd.json"
   ]
  },
  {
   "cell_type": "code",
   "execution_count": 121,
   "metadata": {},
   "outputs": [
    {
     "name": "stdout",
     "output_type": "stream",
     "text": [
      "Download complete.\n"
     ]
    },
    {
     "data": {
      "text/plain": [
       "{'address1': '2485 Augustine Drive',\n",
       " 'city': 'Santa Clara',\n",
       " 'state': 'CA',\n",
       " 'zip': '95054',\n",
       " 'country': 'United States',\n",
       " 'phone': '408 749 4000',\n",
       " 'website': 'https://www.amd.com',\n",
       " 'industry': 'Semiconductors',\n",
       " 'industryKey': 'semiconductors',\n",
       " 'industryDisp': 'Semiconductors',\n",
       " 'sector': 'Technology',\n",
       " 'sectorKey': 'technology',\n",
       " 'sectorDisp': 'Technology',\n",
       " 'longBusinessSummary': 'Advanced Micro Devices, Inc. operates as a semiconductor company worldwide. It operates through three segments: Data Center, Client and Gaming, and Embedded. The company offers artificial intelligence (AI) accelerators, x86 microprocessors, and graphics processing units (GPUs) as standalone devices or as incorporated into accelerated processing units, chipsets, and data center and professional GPUs; and embedded processors and semi-custom system-on-chip (SoC) products, microprocessor and SoC development services and technology, data processing units, field programmable gate arrays (FPGA), system on modules, smart network interface cards, and adaptive SoC products. It provides processors under the AMD Ryzen, AMD Ryzen AI, AMD Ryzen PRO, AMD Ryzen Threadripper, AMD Ryzen Threadripper PRO, AMD Athlon, and AMD PRO A-Series brands; graphics under the AMD Radeon graphics and AMD Embedded Radeon graphics; and professional graphics under the AMD Radeon Pro graphics brand. The company offers data center graphics under the AMD Instinct accelerators and Radeon PRO V-series brands; server microprocessors under the AMD EPYC brand; low power solutions under the AMD Athlon, AMD Geode, AMD Ryzen, AMD EPYC, and AMD R-Series and G-Series brands; FPGA products under the Virtex-6, Virtex-7, Virtex UltraScale+, Kintex-7, Kintex UltraScale, Kintex UltraScale+, Artix-7, Artix UltraScale+, Spartan-6, and Spartan-7 brands; adaptive SOCs under the Zynq-7000, Zynq UltraScale+ MPSoC, Zynq UltraScale+ RFSoCs, Versal HBM, Versal Premium, Versal Prime, Versal AI Core, Versal AI Edge, Vitis, and Vivado brands; and compute and network acceleration board products under the Alveo and Pensando brands. It serves original equipment and design manufacturers, public cloud service providers, system integrators, independent distributors, and add-in-board manufacturers through its direct sales force and sales representatives. It also provides AI and general-purpose compute infrastructure for hyperscale providers. The company was incorporated in 1969 and is headquartered in Santa Clara, California.',\n",
       " 'fullTimeEmployees': 28000,\n",
       " 'companyOfficers': [{'maxAge': 1,\n",
       "   'name': 'Dr. Lisa T. Su Ph.D.',\n",
       "   'age': 54,\n",
       "   'title': 'Chair, President & CEO',\n",
       "   'yearBorn': 1970,\n",
       "   'fiscalYear': 2024,\n",
       "   'totalPay': 3062598,\n",
       "   'exercisedValue': 47792792,\n",
       "   'unexercisedValue': 29753624},\n",
       "  {'maxAge': 1,\n",
       "   'name': 'Ms. Jean X. Hu Ph.D.',\n",
       "   'age': 61,\n",
       "   'title': 'Executive VP, CFO & Treasurer',\n",
       "   'yearBorn': 1963,\n",
       "   'fiscalYear': 2024,\n",
       "   'totalPay': 1429427,\n",
       "   'exercisedValue': 0,\n",
       "   'unexercisedValue': 97947},\n",
       "  {'maxAge': 1,\n",
       "   'name': 'Mr. Mark D. Papermaster',\n",
       "   'age': 62,\n",
       "   'title': 'CTO and Executive VP of Technology & Engineering',\n",
       "   'yearBorn': 1962,\n",
       "   'fiscalYear': 2024,\n",
       "   'totalPay': 1694362,\n",
       "   'exercisedValue': 15503578,\n",
       "   'unexercisedValue': 20029298},\n",
       "  {'maxAge': 1,\n",
       "   'name': 'Ms. Ava M. Hahn J.D.',\n",
       "   'age': 51,\n",
       "   'title': 'Senior VP, General Counsel & Corporate Secretary',\n",
       "   'yearBorn': 1973,\n",
       "   'fiscalYear': 2024,\n",
       "   'totalPay': 2978858,\n",
       "   'exercisedValue': 0,\n",
       "   'unexercisedValue': 0},\n",
       "  {'maxAge': 1,\n",
       "   'name': 'Mr. Forrest E. Norrod',\n",
       "   'age': 59,\n",
       "   'title': 'Executive VP & GM of Data Center Solutions Business Unit',\n",
       "   'yearBorn': 1965,\n",
       "   'fiscalYear': 2024,\n",
       "   'totalPay': 1428233,\n",
       "   'exercisedValue': 9752057,\n",
       "   'unexercisedValue': 4760712},\n",
       "  {'maxAge': 1,\n",
       "   'name': 'Mr. Keivan  Keshvari',\n",
       "   'title': 'Senior Vice President of Global Operations',\n",
       "   'fiscalYear': 2024,\n",
       "   'exercisedValue': 0,\n",
       "   'unexercisedValue': 0},\n",
       "  {'maxAge': 1,\n",
       "   'name': 'Mr. Philip Matthew Carter',\n",
       "   'age': 45,\n",
       "   'title': 'Chief Accounting Officer & Corporate VP',\n",
       "   'yearBorn': 1979,\n",
       "   'fiscalYear': 2024,\n",
       "   'exercisedValue': 0,\n",
       "   'unexercisedValue': 0},\n",
       "  {'maxAge': 1,\n",
       "   'name': 'Mr. Hasmukh  Ranjan',\n",
       "   'title': 'Senior VP & Chief Information Officer',\n",
       "   'fiscalYear': 2024,\n",
       "   'exercisedValue': 0,\n",
       "   'unexercisedValue': 0},\n",
       "  {'maxAge': 1,\n",
       "   'name': 'Ms. Ruth  Cotter',\n",
       "   'title': 'Senior VP & Chief Administrative Officer',\n",
       "   'fiscalYear': 2024,\n",
       "   'exercisedValue': 0,\n",
       "   'unexercisedValue': 0},\n",
       "  {'maxAge': 1,\n",
       "   'name': 'Mr. Matthew D. Ramsay',\n",
       "   'title': 'Vice President of Financial Strategy & Investor Relations',\n",
       "   'fiscalYear': 2024,\n",
       "   'exercisedValue': 0,\n",
       "   'unexercisedValue': 0}],\n",
       " 'auditRisk': 7,\n",
       " 'boardRisk': 4,\n",
       " 'compensationRisk': 9,\n",
       " 'shareHolderRightsRisk': 3,\n",
       " 'overallRisk': 6,\n",
       " 'governanceEpochDate': 1751328000,\n",
       " 'compensationAsOfEpochDate': 1735603200,\n",
       " 'irWebsite': 'http://phx.corporate-ir.net/phoenix.zhtml?c=74093&p=irol-IRHome',\n",
       " 'executiveTeam': [],\n",
       " 'maxAge': 86400,\n",
       " 'priceHint': 2,\n",
       " 'previousClose': 176.31,\n",
       " 'open': 170.14,\n",
       " 'dayLow': 166.82,\n",
       " 'dayHigh': 174.395,\n",
       " 'regularMarketPreviousClose': 176.31,\n",
       " 'regularMarketOpen': 170.14,\n",
       " 'regularMarketDayLow': 166.82,\n",
       " 'regularMarketDayHigh': 174.395,\n",
       " 'exDividendDate': 798940800,\n",
       " 'payoutRatio': 0.0,\n",
       " 'beta': 2.045,\n",
       " 'trailingPE': 126.246376,\n",
       " 'forwardPE': 34.160786,\n",
       " 'volume': 46361238,\n",
       " 'regularMarketVolume': 46361238,\n",
       " 'averageVolume': 50681175,\n",
       " 'averageVolume10days': 59289660,\n",
       " 'averageDailyVolume10Day': 59289660,\n",
       " 'bid': 167.5,\n",
       " 'ask': 174.33,\n",
       " 'bidSize': 1,\n",
       " 'askSize': 4,\n",
       " 'marketCap': 282480312320,\n",
       " 'fiftyTwoWeekLow': 76.48,\n",
       " 'fiftyTwoWeekHigh': 182.5,\n",
       " 'priceToSalesTrailing12Months': 10.17947,\n",
       " 'fiftyDayAverage': 136.5924,\n",
       " 'twoHundredDayAverage': 123.48655,\n",
       " 'trailingAnnualDividendRate': 0.0,\n",
       " 'trailingAnnualDividendYield': 0.0,\n",
       " 'currency': 'USD',\n",
       " 'tradeable': False,\n",
       " 'enterpriseValue': 283290763264,\n",
       " 'profitMargins': 0.080249995,\n",
       " 'floatShares': 1610070580,\n",
       " 'sharesOutstanding': 1621400064,\n",
       " 'sharesShort': 44717085,\n",
       " 'sharesShortPriorMonth': 41007282,\n",
       " 'sharesShortPreviousMonthDate': 1749772800,\n",
       " 'dateShortInterest': 1752537600,\n",
       " 'sharesPercentSharesOut': 0.0276,\n",
       " 'heldPercentInsiders': 0.0053100004,\n",
       " 'heldPercentInstitutions': 0.68088996,\n",
       " 'shortRatio': 0.76,\n",
       " 'shortPercentOfFloat': 0.0277,\n",
       " 'impliedSharesOutstanding': 1621400064,\n",
       " 'bookValue': 35.817,\n",
       " 'priceToBook': 4.8641706,\n",
       " 'lastFiscalYearEnd': 1735344000,\n",
       " 'nextFiscalYearEnd': 1766880000,\n",
       " 'mostRecentQuarter': 1743206400,\n",
       " 'earningsQuarterlyGrowth': 4.764,\n",
       " 'netIncomeToCommon': 2227000064,\n",
       " 'trailingEps': 1.38,\n",
       " 'forwardEps': 5.1,\n",
       " 'lastSplitFactor': '2:1',\n",
       " 'lastSplitDate': 966902400,\n",
       " 'enterpriseToRevenue': 10.209,\n",
       " 'enterpriseToEbitda': 48.195,\n",
       " '52WeekChange': 0.3306415,\n",
       " 'SandP52WeekChange': 0.18569505,\n",
       " 'quoteType': 'EQUITY',\n",
       " 'currentPrice': 174.22,\n",
       " 'targetHighPrice': 223.0,\n",
       " 'targetLowPrice': 111.0,\n",
       " 'targetMeanPrice': 154.2289,\n",
       " 'targetMedianPrice': 140.0,\n",
       " 'recommendationMean': 1.73077,\n",
       " 'recommendationKey': 'buy',\n",
       " 'numberOfAnalystOpinions': 45,\n",
       " 'totalCash': 7310000128,\n",
       " 'totalCashPerShare': 4.508,\n",
       " 'ebitda': 5878000128,\n",
       " 'totalDebt': 4730999808,\n",
       " 'quickRatio': 1.765,\n",
       " 'currentRatio': 2.803,\n",
       " 'totalRevenue': 27750000640,\n",
       " 'debtToEquity': 8.174,\n",
       " 'revenuePerShare': 17.122,\n",
       " 'returnOnAssets': 0.0256,\n",
       " 'returnOnEquity': 0.03904,\n",
       " 'grossProfits': 14867999744,\n",
       " 'freeCashflow': 3355624960,\n",
       " 'operatingCashflow': 3459000064,\n",
       " 'earningsGrowth': 5.252,\n",
       " 'revenueGrowth': 0.359,\n",
       " 'grossMargins': 0.53578,\n",
       " 'ebitdaMargins': 0.21181999,\n",
       " 'operatingMargins': 0.10836001,\n",
       " 'financialCurrency': 'USD',\n",
       " 'symbol': 'AMD',\n",
       " 'language': 'en-US',\n",
       " 'region': 'US',\n",
       " 'typeDisp': 'Equity',\n",
       " 'quoteSourceName': 'Nasdaq Real Time Price',\n",
       " 'triggerable': True,\n",
       " 'customPriceAlertConfidence': 'HIGH',\n",
       " 'longName': 'Advanced Micro Devices, Inc.',\n",
       " 'shortName': 'Advanced Micro Devices, Inc.',\n",
       " 'corporateActions': [],\n",
       " 'regularMarketTime': 1754065609,\n",
       " 'exchangeTimezoneShortName': 'EDT',\n",
       " 'gmtOffSetMilliseconds': -14400000,\n",
       " 'market': 'us_market',\n",
       " 'esgPopulated': False,\n",
       " 'regularMarketChangePercent': -1.18541,\n",
       " 'regularMarketPrice': 174.22,\n",
       " 'exchange': 'NMS',\n",
       " 'messageBoardId': 'finmb_168864',\n",
       " 'exchangeTimezoneName': 'America/New_York',\n",
       " 'marketState': 'REGULAR',\n",
       " 'hasPrePostMarketData': True,\n",
       " 'firstTradeDateMilliseconds': 322151400000,\n",
       " 'regularMarketChange': -2.0899963,\n",
       " 'regularMarketDayRange': '166.82 - 174.395',\n",
       " 'fullExchangeName': 'NasdaqGS',\n",
       " 'averageDailyVolume3Month': 50681175,\n",
       " 'fiftyTwoWeekLowChange': 97.74,\n",
       " 'fiftyTwoWeekLowChangePercent': 1.277981,\n",
       " 'fiftyTwoWeekRange': '76.48 - 182.5',\n",
       " 'fiftyTwoWeekHighChange': -8.279999,\n",
       " 'fiftyTwoWeekHighChangePercent': -0.045369856,\n",
       " 'fiftyTwoWeekChangePercent': 33.06415,\n",
       " 'earningsTimestamp': 1754424000,\n",
       " 'earningsTimestampStart': 1754424000,\n",
       " 'earningsTimestampEnd': 1754424000,\n",
       " 'earningsCallTimestampStart': 1754427600,\n",
       " 'earningsCallTimestampEnd': 1754427600,\n",
       " 'isEarningsDateEstimate': False,\n",
       " 'epsTrailingTwelveMonths': 1.38,\n",
       " 'epsForward': 5.1,\n",
       " 'epsCurrentYear': 3.97856,\n",
       " 'priceEpsCurrentYear': 43.789715,\n",
       " 'fiftyDayAverageChange': 37.627594,\n",
       " 'fiftyDayAverageChangePercent': 0.27547354,\n",
       " 'twoHundredDayAverageChange': 50.73345,\n",
       " 'twoHundredDayAverageChangePercent': 0.4108419,\n",
       " 'sourceInterval': 15,\n",
       " 'exchangeDataDelayedBy': 0,\n",
       " 'averageAnalystRating': '1.7 - Buy',\n",
       " 'cryptoTradeable': False,\n",
       " 'displayName': 'Advanced Micro Devices',\n",
       " 'trailingPegRatio': 0.8451}"
      ]
     },
     "execution_count": 121,
     "metadata": {},
     "output_type": "execute_result"
    }
   ],
   "source": [
    "import requests\n",
    "\n",
    "url = \"https://cf-courses-data.s3.us.cloud-object-storage.appdomain.cloud/IBMDeveloperSkillsNetwork-PY0220EN-SkillsNetwork/data/amd.json\"\n",
    "response = requests.get(url)\n",
    "\n",
    "with open(\"amd.json\", \"wb\") as f:\n",
    "    f.write(response.content)\n",
    "\n",
    "print(\"Download complete.\")\n",
    "amd.info"
   ]
  },
  {
   "cell_type": "markdown",
   "metadata": {},
   "source": [
    "<b>Question 1</b> Use the key  <code>'country'</code> to find the country the stock belongs to, remember it as it will be a quiz question.\n"
   ]
  },
  {
   "cell_type": "code",
   "execution_count": 123,
   "metadata": {},
   "outputs": [
    {
     "data": {
      "text/plain": [
       "'United States'"
      ]
     },
     "execution_count": 123,
     "metadata": {},
     "output_type": "execute_result"
    }
   ],
   "source": [
    "amd.info['country']"
   ]
  },
  {
   "cell_type": "markdown",
   "metadata": {},
   "source": [
    "<b>Question 2</b> Use the key  <code>'sector'</code> to find the sector the stock belongs to, remember it as it will be a quiz question.\n"
   ]
  },
  {
   "cell_type": "code",
   "execution_count": 127,
   "metadata": {},
   "outputs": [
    {
     "data": {
      "text/plain": [
       "'Technology'"
      ]
     },
     "execution_count": 127,
     "metadata": {},
     "output_type": "execute_result"
    }
   ],
   "source": [
    "amd.info['sector']"
   ]
  },
  {
   "cell_type": "markdown",
   "metadata": {},
   "source": [
    "<b>Question 3</b> Obtain stock data for AMD using the `history` function, set the `period` to max. Find the `Volume` traded on the first day (first row).\n"
   ]
  },
  {
   "cell_type": "code",
   "execution_count": 130,
   "metadata": {},
   "outputs": [
    {
     "data": {
      "text/plain": [
       "Date\n",
       "1980-03-17 00:00:00-05:00    219600\n",
       "Name: Volume, dtype: int64"
      ]
     },
     "execution_count": 130,
     "metadata": {},
     "output_type": "execute_result"
    }
   ],
   "source": [
    "amd_price_info = amd.history(period=\"max\")\n",
    "amd_price_info.head(1)['Volume']"
   ]
  },
  {
   "cell_type": "markdown",
   "metadata": {},
   "source": [
    "<h2>About the Authors:</h2> \n",
    "\n",
    "<a href=\"https://www.linkedin.com/in/joseph-s-50398b136/\">Joseph Santarcangelo</a> has a PhD in Electrical Engineering, his research focused on using machine learning, signal processing, and computer vision to determine how videos impact human cognition. Joseph has been working for IBM since he completed his PhD.\n",
    "\n",
    "Azim Hirjani\n"
   ]
  },
  {
   "cell_type": "markdown",
   "metadata": {},
   "source": [
    "<!-- ## Change Log\n",
    "\n",
    "| Date (YYYY-MM-DD) | Version | Changed By    | Change Description        |\n",
    "| ----------------- | ------- | ------------- | ------------------------- |\n",
    "| 2020-11-10        | 1.1     | Malika Singla | Deleted the Optional part |\n",
    "| 2020-08-27        | 1.0     | Malika Singla | Added lab to GitLab       |\n",
    "\n",
    "<hr>-->\n",
    "\n",
    "## <h3 align=\"center\"> © IBM Corporation 2020. All rights reserved. <h3/>\n",
    "\n",
    "<p>\n"
   ]
  },
  {
   "cell_type": "code",
   "execution_count": null,
   "metadata": {},
   "outputs": [],
   "source": []
  }
 ],
 "metadata": {
  "kernelspec": {
   "display_name": "Python [conda env:base] *",
   "language": "python",
   "name": "conda-base-py"
  },
  "language_info": {
   "codemirror_mode": {
    "name": "ipython",
    "version": 3
   },
   "file_extension": ".py",
   "mimetype": "text/x-python",
   "name": "python",
   "nbconvert_exporter": "python",
   "pygments_lexer": "ipython3",
   "version": "3.12.7"
  },
  "prev_pub_hash": "62faa850bc8281ce7e26921454248cbaba89b3dee85cbce43a1a81bdf8191b44"
 },
 "nbformat": 4,
 "nbformat_minor": 4
}
