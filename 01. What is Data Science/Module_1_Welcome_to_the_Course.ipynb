{
 "cells": [
  {
   "cell_type": "markdown",
   "id": "d4288ed0-4296-4dbe-9418-b736070f5cb3",
   "metadata": {},
   "source": [
    "# 📜 IBM Data Science Professional Certificate  \n",
    "*Curiosity to Capability — One Notebook at a Time*\n",
    "\n",
    "---\n",
    "\n",
    "**Compiled and Authored by:**  \n",
    "**Partho Sarothi Das**  \n",
    "Dhaka, Bangladesh  \n",
    "🎓 Bachelor's & Master's in Statistics  \n",
    "💼 Investment Banking Professional → Aspiring Data Scientist  \n",
    "\n",
    ">**Disclaimer:** This notebook is based on content from the [IBM Data Science Professional Certificate](https://www.coursera.org/professional-certificates/ibm-data-science) offered on Coursera. It is intended for personal learning and review purposes.\n",
    "\n",
    "---\n",
    "---"
   ]
  },
  {
   "cell_type": "markdown",
   "id": "1a005896-07d1-41e1-9736-8f7a715ef078",
   "metadata": {},
   "source": [
    "# Data Science\n",
    "\n",
    "Data Science is an interdisciplinary field that focuses on extracting meaningful insights and knowledge from data using scientific methods, processes, algorithms, and systems. It combines elements of statistics, computer science, mathematics, and domain expertise to analyze structured and unstructured data."
   ]
  },
  {
   "cell_type": "markdown",
   "id": "7fc617a0-a726-4cad-b77b-c495eb224121",
   "metadata": {},
   "source": [
    "### Definition:\n",
    "\n",
    "Data Science is the art and science of turning raw data into useful information to support decision-making, prediction, and understanding.\n",
    "\n",
    "### 📌 Key Components of Data Science:\n",
    "\n",
    "**1. Data Collection** – Gathering data from various sources (web, databases, sensors, etc.)\n",
    "\n",
    "**2. Data Cleaning** – Removing errors and inconsistencies.\n",
    "\n",
    "**3. Exploratory Data Analysis (EDA)** – Understanding patterns, trends, and anomalies.\n",
    "\n",
    "**4. Statistical Analysis** – Applying statistical methods to derive insights.\n",
    "\n",
    "**5. Machine Learning** – Building models to make predictions or automate decisions.\n",
    "\n",
    "**6. Data Visualization** – Communicating findings clearly using charts and dashboards.\n",
    "\n",
    "**7. Deployment** – Making models accessible through apps or services.\n",
    "\n",
    "\n",
    "###  📌 Tools Commonly Used:  \n",
    "\n",
    "**1. Programming:** Python, R, SQL\n",
    "\n",
    "**2. Libraries:** Pandas, NumPy, Matplotlib, Scikit-learn, TensorFlow\n",
    "\n",
    "**3. Platforms:** Jupyter Notebook, Google Colab\n",
    "\n",
    "**4. Databases:** MySQL, PostgreSQL, MongoDB\n",
    "\n",
    "### 📌 Importance Data Science\n",
    "\n",
    "- Helps organizations make data-driven decisions.\n",
    "\n",
    "- Improves efficiency, personalization, and innovation.\n",
    "\n",
    "- Powers AI systems like chatbots, recommendation engines, and autonomous vehicles."
   ]
  },
  {
   "cell_type": "markdown",
   "id": "275e4f4f-e557-4dee-a27c-c9624dccfc9a",
   "metadata": {},
   "source": [
    "# Summary of the Advice for Aspiring Data Scientists\n",
    "\n",
    "This reflection offers a bold and philosophical take on what truly defines a successful data scientist—beyond tools and techniques:\n",
    "\n",
    "- **Core Traits**:\n",
    "  - **Curiosity** is essential to know what questions to ask and what data to seek.\n",
    "  - **Judgmental thinking** (in a constructive sense) helps form initial hypotheses and gives direction.\n",
    "  - **Argumentative mindset** allows one to take a strong position, refine it through evidence, and grow through contradiction.  \n",
    "\n",
    "- **Tools Are Secondary**:\n",
    "  - Comfort with analytics platforms is useful, but secondary to intellectual traits.\n",
    "\n",
    "-  **Data Storytelling Matters**:\n",
    "  - After analysis, storytelling is key. Insights are only valuable if they’re communicated compellingly.\n",
    "\n",
    "-  **Know Your Competitive Advantage**:\n",
    "  - Decide whether you want to be a generalist or work in a specific field (e.g., health, retail, tech).\n",
    "  - Your edge may lie in deep domain understanding, not just technical skills.\n",
    "\n",
    "-  **Industry-Aligned Learning**:\n",
    "  - Choose tools and platforms relevant to your target industry.\n",
    "  - Apply skills to real-world problems and showcase your abilities through projects and narratives.\n"
   ]
  },
  {
   "cell_type": "markdown",
   "id": "404aa320-baf8-4d70-af07-add07cbac871",
   "metadata": {},
   "source": [
    "# Lesson Glossary: "
   ]
  },
  {
   "cell_type": "markdown",
   "id": "b287094c-95b1-4d17-ab95-c77aadc99360",
   "metadata": {},
   "source": [
    "### Algorithms: \n",
    "\n",
    "A set of step-by-step instructions to solve a problem or complete a task.\n",
    "\n",
    "### Model: \n",
    "\n",
    "A representation of the relationships and patterns found in data to make predictions or analyze complex systems retaining essential elements needed for analysis.\n",
    "\n",
    "### Outliers:\n",
    "\n",
    "When a data point or points occur significantly outside of most of the other data in a data set, potentially indicating anomalies, errors, or unique phenomena that could impact statistical analysis or modeling.\n",
    "\n",
    "### Quantitative analysis:\n",
    "\n",
    "A systematic approach using mathematical and statistical analysis is used to interpret numerical data.\n",
    "\n",
    "### Structured data:\n",
    "\n",
    "Data is organized and formatted into a predictable schema, usually related tables with rows and columns.\n",
    "\n",
    "### Unstructured data:\n",
    "\n",
    "Unorganized data that lacks a predefined data model or organization makes it harder to analyze using traditional methods. This data type often includes text, images, videos, and other content that doesn't fit neatly into rows and columns like structured data."
   ]
  },
  {
   "cell_type": "markdown",
   "id": "278d5508-b62f-4ab1-ae00-a584d395391a",
   "metadata": {},
   "source": [
    "# Different Types of File Formats in Data Science"
   ]
  },
  {
   "cell_type": "markdown",
   "id": "98ce5e44-6637-4630-98f0-a5ac231a7f67",
   "metadata": {},
   "source": [
    "### 1. CSV (Comma-Separated Values)\n",
    "\n",
    "- **Type:** Text\n",
    "\n",
    "- **Use Case:** Common format for tabular data.\n",
    "\n",
    "- **Advantages:** Easy to read/write; supported by Excel and pandas.\n",
    "\n",
    "- **Disadvantages:** No support for metadata or data types.\n",
    "\n",
    "- **Library (Python):** pandas.read_csv()"
   ]
  },
  {
   "cell_type": "markdown",
   "id": "b0c44662-ee05-4ba3-8722-47500e74742a",
   "metadata": {},
   "source": [
    "### 2. Excel (.xls, .xlsx)\n",
    "\n",
    "- **Type:** Binary (XLS) or XML-based (XLSX)\n",
    "\n",
    "- **Use Case:** Spreadsheets with formatting, formulas, and multiple sheets.\n",
    "\n",
    "- **Advantages:** Widely used in business environments.\n",
    "\n",
    "- **Disadvantages:** Slower to process for large files.\n",
    "\n",
    "- **Library (Python):** pandas.read_excel(), openpyxl, xlrd"
   ]
  },
  {
   "cell_type": "markdown",
   "id": "27275ff4-b2f8-441f-9711-d360e5fdf471",
   "metadata": {},
   "source": [
    "### 3. JSON (JavaScript Object Notation)\n",
    "\n",
    "- **Type:** Text (Structured)\n",
    "\n",
    "- **Use Case:** Storing nested and hierarchical data (e.g., APIs).\n",
    "\n",
    "- **Advantages:** Lightweight, human-readable, supports nested objects.\n",
    "\n",
    "- **Disadvantages:** Not ideal for large tabular datasets.\n",
    "\n",
    "- **Library (Python):** json, pandas.read_json()"
   ]
  },
  {
   "cell_type": "markdown",
   "id": "674935b0-6f70-47d9-9cc9-0a4d2d0244f9",
   "metadata": {},
   "source": [
    "### 4. XML (eXtensible Markup Language)\n",
    "\n",
    "- **Type:** Text (Markup)\n",
    "\n",
    "- **Use Case:** Similar to JSON but more verbose; used in legacy systems.\n",
    "\n",
    "- **Advantages:** Supports complex structures.\n",
    "\n",
    "- **Disadvantages:** Verbose and harder to parse.\n",
    "\n",
    "- **Library (Python):** xml.etree.ElementTree, lxml"
   ]
  },
  {
   "cell_type": "markdown",
   "id": "4fdcbde9-5867-4916-ba08-538f31ed4822",
   "metadata": {},
   "source": [
    "### 5. SQL / Database Files\n",
    "\n",
    "- **Type:** Binary / Structured\n",
    "\n",
    "- **Use Case:** Data stored in relational databases (MySQL, SQLite, PostgreSQL).\n",
    "\n",
    "- **Advantages:** Fast querying and storage for large datasets.\n",
    "\n",
    "- **Disadvantages:** Requires database engine.\n",
    "\n",
    "- **Library (Python):** sqlite3, SQLAlchemy, pandas.read_sql()"
   ]
  },
  {
   "cell_type": "markdown",
   "id": "3def143e-a886-447c-a98a-33e85e000832",
   "metadata": {},
   "source": [
    "### 6. Image Files (.jpg, .png, .bmp)\n",
    "\n",
    "- **Type:** Binary\n",
    "\n",
    "- **Use Case:** Computer vision and image processing.\n",
    "\n",
    "- **Library (Python):** OpenCV, Pillow, matplotlib.pyplot.imread()"
   ]
  },
  {
   "cell_type": "markdown",
   "id": "8b4b83a3-a3ac-4e82-a6ba-144fc510ac54",
   "metadata": {},
   "source": [
    "### Summary Table \n",
    "\n",
    "| Format  | Type       | Best For                 | Python Library   |\n",
    "| ------- | ---------- | ------------------------ | ---------------- |\n",
    "| CSV     | Text       | Tabular Data             | pandas           |\n",
    "| Excel   | Binary     | Business/Spreadsheets    | pandas, openpyxl |\n",
    "| JSON    | Text       | Nested Data/APIs         | json, pandas     |\n",
    "| XML     | Text       | Legacy/Hierarchical Data | xml, lxml        |\n",
    "| TXT     | Text       | Logs, Simple Text        | open(), read()   |\n",
    "| SQL     | Structured | Relational Databases     | sqlite3, pandas  |\n",
    "| Parquet | Binary     | Big Data/Column Storage  | pyarrow, pandas  |\n",
    "| Pickle  | Binary     | Python Objects/Models    | pickle, joblib   |\n",
    "| HDF5    | Binary     | Scientific Data          | h5py, pandas     |\n",
    "| Images  | Binary     | Visual Data              | OpenCV, Pillow   |\n"
   ]
  },
  {
   "cell_type": "markdown",
   "id": "842cda94-bbd0-4bc5-850b-a42c4b1fdb4d",
   "metadata": {},
   "source": [
    "# Main topics and algorithms in Data Science\n",
    "\n",
    "| Category          | Topics / Algorithms                            |\n",
    "| ----------------- | ---------------------------------------------- |\n",
    "| Statistics        | Descriptive & Inferential                      |\n",
    "| ML - Supervised   | Linear/Logistic Regression, Random Forest, SVM |\n",
    "| ML - Unsupervised | K-Means, PCA, DBSCAN                           |\n",
    "| Deep Learning     | ANN, CNN, RNN, Transformers                    |\n",
    "| NLP               | Text Cleaning, TF-IDF, BERT                    |\n",
    "| Visualization     | Matplotlib, Seaborn, Plotly                    |\n",
    "| Data Storage      | SQL, JSON, CSV, Parquet                        |\n",
    "| Model Deployment  | Streamlit, Flask, Docker                       |\n",
    "| Big Data          | Hadoop, Spark, Kafka                           |\n"
   ]
  },
  {
   "cell_type": "markdown",
   "id": "5030b30e-fd9c-4cd6-85db-640825f83c06",
   "metadata": {},
   "source": [
    "# What Makes Someone a Data Scientist?"
   ]
  },
  {
   "cell_type": "markdown",
   "id": "4562416d-acf8-4ab4-8039-cd8abcaf2d0d",
   "metadata": {},
   "source": [
    "A Data Scientist is someone who uses data to drive decisions, build solutions, and solve complex problems using a combination of analytical, programming, and domain knowledge.\n",
    "\n",
    "| Trait / Skill              | Description                                 |\n",
    "| -------------------------- | ------------------------------------------- |\n",
    "| Analytical Thinking        | Problem-solving mindset                     |\n",
    "| Technical Skills           | Programming, ML, statistics                 |\n",
    "| Data Pipeline Knowledge    | From data collection to deployment          |\n",
    "| Communication              | Storytelling with data and visuals          |\n",
    "| Domain Expertise           | Understanding the \"why\" behind the \"what\"   |\n",
    "| Curiosity & Growth Mindset | Continuous learning and improvement         |\n",
    "| Teamwork & Collaboration   | Working cross-functionally                  |\n",
    "| Business Impact Focus      | Aligning solutions with real-world outcomes |\n"
   ]
  },
  {
   "cell_type": "markdown",
   "id": "72bc5ba6-dae3-41d5-9bf6-199a08d3c496",
   "metadata": {},
   "source": [
    "# Summary: What Do Data Scientists Do?\n",
    "\n",
    "- Data science is the study of large quantities of data, which can reveal insights that help organizations make strategic choices.\n",
    "\n",
    "- There are many paths to a career in data science; most, but not all, involve math, programming, and curiosity about data.\n",
    "\n",
    "- New data scientists need to be curious, judgemental and argumentative.\n",
    "\n",
    "- Knowledgeable data scientists are in high demand. Jobs in data science pays high salaries for skilled workers.\n",
    "\n",
    "- The typical work day for a Data Scientist varies depending on what type of project they are working on.\n",
    "\n",
    "- Many algorithms are used to bring out insights from data. \n",
    "\n",
    "- Some key data science related terms you learned in this lesson include: outliers, model, algorithms, JSON, XML. CSV, and regression.\n",
    "\n"
   ]
  },
  {
   "cell_type": "code",
   "execution_count": null,
   "id": "2aa26af0-401d-469c-932d-b2e3ed09a570",
   "metadata": {},
   "outputs": [],
   "source": []
  }
 ],
 "metadata": {
  "kernelspec": {
   "display_name": "Python [conda env:base] *",
   "language": "python",
   "name": "conda-base-py"
  },
  "language_info": {
   "codemirror_mode": {
    "name": "ipython",
    "version": 3
   },
   "file_extension": ".py",
   "mimetype": "text/x-python",
   "name": "python",
   "nbconvert_exporter": "python",
   "pygments_lexer": "ipython3",
   "version": "3.12.7"
  }
 },
 "nbformat": 4,
 "nbformat_minor": 5
}
